{
 "cells": [
  {
   "cell_type": "code",
   "execution_count": 2,
   "metadata": {},
   "outputs": [],
   "source": [
    "import numpy as np\n",
    "from emo_utils import *\n",
    "from keras.layers import Input, Dense, Activation, LSTM, Bidirectional, RepeatVector, Dot, Concatenate, Embedding\n",
    "from keras.layers import Conv1D\n",
    "from keras.optimizers import Adam\n",
    "from keras.models import Model\n",
    "from keras.initializers import glorot_uniform"
   ]
  },
  {
   "cell_type": "code",
   "execution_count": 3,
   "metadata": {},
   "outputs": [],
   "source": [
    "data, labels, max_length=load_data()"
   ]
  },
  {
   "cell_type": "code",
   "execution_count": 4,
   "metadata": {},
   "outputs": [
    {
     "data": {
      "text/plain": [
       "66"
      ]
     },
     "execution_count": 4,
     "metadata": {},
     "output_type": "execute_result"
    }
   ],
   "source": [
    "Tx=max_length\n",
    "Tx"
   ]
  },
  {
   "cell_type": "code",
   "execution_count": 5,
   "metadata": {},
   "outputs": [],
   "source": [
    "label_dict, y_hot=labels_to_one_hot(labels)"
   ]
  },
  {
   "cell_type": "code",
   "execution_count": 6,
   "metadata": {},
   "outputs": [],
   "source": [
    "word_to_vec, Glove_words, word_to_index=load_GloVe()"
   ]
  },
  {
   "cell_type": "code",
   "execution_count": 7,
   "metadata": {},
   "outputs": [],
   "source": [
    "X_index=data_to_index(data, word_to_index, Glove_words, Tx)"
   ]
  },
  {
   "cell_type": "code",
   "execution_count": null,
   "metadata": {},
   "outputs": [],
   "source": []
  },
  {
   "cell_type": "code",
   "execution_count": 8,
   "metadata": {},
   "outputs": [],
   "source": [
    "def pretrained_embedding_layer(word_to_vec, word_to_index):\n",
    "    \n",
    "    vocab_size=len(word_to_index)+1     ### +1 for unknown words which are not present in the Glove_words\n",
    "    \n",
    "    emb_dim= word_to_vec['this'].shape[0]\n",
    "    \n",
    "    \n",
    "    embedding_matrix=np.zeros((vocab_size, emb_dim))\n",
    "    \n",
    "    for w, i in word_to_index.items():\n",
    "        \n",
    "        embedding_matrix[i]=word_to_vec[w]\n",
    "    \n",
    "    embedding_layer= Embedding(input_dim=vocab_size, output_dim=emb_dim, trainable=False)  ## can only be used as \n",
    "                                                                                            ### the first layer in a model\n",
    "    embedding_layer.build((None,))\n",
    "    \n",
    "    embedding_layer.set_weights([embedding_matrix])\n",
    "    \n",
    "    return embedding_layer\n",
    "    "
   ]
  },
  {
   "cell_type": "code",
   "execution_count": 61,
   "metadata": {},
   "outputs": [],
   "source": [
    "repeator=RepeatVector(Tx)\n",
    "concatenator=Concatenate(axis=-1)\n",
    "dotor=Dot(axes=1)"
   ]
  },
  {
   "cell_type": "code",
   "execution_count": 62,
   "metadata": {},
   "outputs": [],
   "source": [
    "def one_step_attention(s_prev, a):\n",
    "    \n",
    "    s_prev=repeator(s_prev)\n",
    "    \n",
    "    concat=concatenator([s_prev,a])\n",
    "    \n",
    "    e=Dense(units=32, activation='tanh')(concat)\n",
    "    \n",
    "    e=Dense(units=64, activation='relu')(e)\n",
    "    \n",
    "    alphas= Activation(\"softmax\")(e)\n",
    "    \n",
    "    context=dotor([alphas, a])\n",
    "    \n",
    "    return context\n"
   ]
  },
  {
   "cell_type": "code",
   "execution_count": 63,
   "metadata": {},
   "outputs": [],
   "source": [
    "def model(word_to_vec, word_to_index, n_a, n_s, Tx, label_dict_size):\n",
    "    \n",
    "    X_input=Input(shape=(Tx,))\n",
    "    \n",
    "    embedding_layer= pretrained_embedding_layer(word_to_vec, word_to_index)\n",
    "    \n",
    "    X=embedding_layer(X_input)                  ## X is the embeddings of input  \n",
    "    \n",
    "    a=Bidirectional(LSTM(units=n_a, return_sequences=True))(X)\n",
    "    \n",
    "    a=Conv1D(filters=32, kernel_size=3, strides=1, padding='same', kernel_initializer=glorot_uniform(seed=0))(a)\n",
    "    \n",
    "    s0=Input(shape=(n_s,))\n",
    "    c0=Input(shape=(n_s,))\n",
    "    \n",
    "    context=one_step_attention(s0, a)\n",
    "    \n",
    "    s,_,c= LSTM(units=n_s, return_state=True)([context, s0,c0])\n",
    "    \n",
    "    out= Dense(units=label_dict_size, activation='softmax')(s)\n",
    "    \n",
    "    model=Model(inputs=[X_input, s0, c0], outputs=out)\n",
    "    \n",
    "    return model\n",
    "    "
   ]
  },
  {
   "cell_type": "code",
   "execution_count": 64,
   "metadata": {},
   "outputs": [],
   "source": [
    "n_a=32\n",
    "n_s=64\n",
    "model=model(word_to_vec, word_to_index, n_a=32,n_s=64, Tx=Tx, label_dict_size=len(label_dict))"
   ]
  },
  {
   "cell_type": "code",
   "execution_count": 65,
   "metadata": {},
   "outputs": [
    {
     "name": "stdout",
     "output_type": "stream",
     "text": [
      "____________________________________________________________________________________________________\n",
      "Layer (type)                     Output Shape          Param #     Connected to                     \n",
      "====================================================================================================\n",
      "input_38 (InputLayer)            (None, 66)            0                                            \n",
      "____________________________________________________________________________________________________\n",
      "embedding_14 (Embedding)         (None, 66, 100)       40000100    input_38[0][0]                   \n",
      "____________________________________________________________________________________________________\n",
      "input_39 (InputLayer)            (None, 64)            0                                            \n",
      "____________________________________________________________________________________________________\n",
      "bidirectional_13 (Bidirectional) (None, 66, 64)        34048       embedding_14[0][0]               \n",
      "____________________________________________________________________________________________________\n",
      "repeat_vector_9 (RepeatVector)   (None, 66, 64)        0           input_39[0][0]                   \n",
      "____________________________________________________________________________________________________\n",
      "conv1d_8 (Conv1D)                (None, 66, 32)        6176        bidirectional_13[0][0]           \n",
      "____________________________________________________________________________________________________\n",
      "concatenate_9 (Concatenate)      (None, 66, 96)        0           repeat_vector_9[0][0]            \n",
      "                                                                   conv1d_8[0][0]                   \n",
      "____________________________________________________________________________________________________\n",
      "dense_19 (Dense)                 (None, 66, 32)        3104        concatenate_9[0][0]              \n",
      "____________________________________________________________________________________________________\n",
      "dense_20 (Dense)                 (None, 66, 64)        2112        dense_19[0][0]                   \n",
      "____________________________________________________________________________________________________\n",
      "activation_7 (Activation)        (None, 66, 64)        0           dense_20[0][0]                   \n",
      "____________________________________________________________________________________________________\n",
      "dot_9 (Dot)                      (None, 64, 32)        0           activation_7[0][0]               \n",
      "                                                                   conv1d_8[0][0]                   \n",
      "____________________________________________________________________________________________________\n",
      "input_40 (InputLayer)            (None, 64)            0                                            \n",
      "____________________________________________________________________________________________________\n",
      "lstm_20 (LSTM)                   [(None, 64), (None, 6 24832       dot_9[0][0]                      \n",
      "                                                                   input_39[0][0]                   \n",
      "                                                                   input_40[0][0]                   \n",
      "____________________________________________________________________________________________________\n",
      "dense_21 (Dense)                 (None, 6)             390         lstm_20[0][0]                    \n",
      "====================================================================================================\n",
      "Total params: 40,070,762\n",
      "Trainable params: 70,662\n",
      "Non-trainable params: 40,000,100\n",
      "____________________________________________________________________________________________________\n"
     ]
    }
   ],
   "source": [
    "model.summary()"
   ]
  },
  {
   "cell_type": "code",
   "execution_count": 66,
   "metadata": {},
   "outputs": [],
   "source": [
    "opt=Adam(lr=0.02, beta_1=0.9, beta_2=0.999, decay=0.1)\n",
    "model.compile(optimizer=opt, loss='categorical_crossentropy',metrics=['accuracy'])"
   ]
  },
  {
   "cell_type": "code",
   "execution_count": 67,
   "metadata": {},
   "outputs": [],
   "source": [
    "m=len(data)\n",
    "n_s=64\n",
    "s0=np.zeros((m, n_s))\n",
    "c0=np.zeros((m, n_s))"
   ]
  },
  {
   "cell_type": "code",
   "execution_count": 68,
   "metadata": {},
   "outputs": [
    {
     "name": "stdout",
     "output_type": "stream",
     "text": [
      "Epoch 1/15\n",
      "16000/16000 [==============================] - 88s - loss: 1.5639 - acc: 0.3624    \n",
      "Epoch 2/15\n",
      "16000/16000 [==============================] - 81s - loss: 1.2576 - acc: 0.5307    \n",
      "Epoch 3/15\n",
      "16000/16000 [==============================] - 84s - loss: 1.1203 - acc: 0.5837    \n",
      "Epoch 4/15\n",
      "16000/16000 [==============================] - 82s - loss: 0.9270 - acc: 0.6787    \n",
      "Epoch 5/15\n",
      "16000/16000 [==============================] - 81s - loss: 0.7964 - acc: 0.7309    \n",
      "Epoch 6/15\n",
      "16000/16000 [==============================] - 81s - loss: 0.7088 - acc: 0.7631    \n",
      "Epoch 7/15\n",
      "16000/16000 [==============================] - 81s - loss: 0.6509 - acc: 0.7806    \n",
      "Epoch 8/15\n",
      "16000/16000 [==============================] - 81s - loss: 0.6102 - acc: 0.7923    \n",
      "Epoch 9/15\n",
      "16000/16000 [==============================] - 81s - loss: 0.5832 - acc: 0.8013    \n",
      "Epoch 10/15\n",
      "16000/16000 [==============================] - 81s - loss: 0.5543 - acc: 0.8111    \n",
      "Epoch 11/15\n",
      "16000/16000 [==============================] - 81s - loss: 0.5336 - acc: 0.8161    \n",
      "Epoch 12/15\n",
      "16000/16000 [==============================] - 81s - loss: 0.5159 - acc: 0.8212    \n",
      "Epoch 13/15\n",
      "16000/16000 [==============================] - 81s - loss: 0.4995 - acc: 0.8248    \n",
      "Epoch 14/15\n",
      "16000/16000 [==============================] - 83s - loss: 0.4857 - acc: 0.8309    \n",
      "Epoch 15/15\n",
      "16000/16000 [==============================] - 82s - loss: 0.4719 - acc: 0.8352    \n"
     ]
    },
    {
     "data": {
      "text/plain": [
       "<keras.callbacks.History at 0xe4b0b43828>"
      ]
     },
     "execution_count": 68,
     "metadata": {},
     "output_type": "execute_result"
    }
   ],
   "source": [
    "model.fit([X_index,s0,c0], y_hot, epochs=15, batch_size=128)   ### batch_size in the form 2^k"
   ]
  }
 ],
 "metadata": {
  "kernelspec": {
   "display_name": "Python 3",
   "language": "python",
   "name": "python3"
  },
  "language_info": {
   "codemirror_mode": {
    "name": "ipython",
    "version": 3
   },
   "file_extension": ".py",
   "mimetype": "text/x-python",
   "name": "python",
   "nbconvert_exporter": "python",
   "pygments_lexer": "ipython3",
   "version": "3.6.5"
  }
 },
 "nbformat": 4,
 "nbformat_minor": 2
}
