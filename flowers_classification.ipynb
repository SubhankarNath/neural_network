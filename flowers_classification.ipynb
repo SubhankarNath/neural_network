{
 "cells": [
  {
   "cell_type": "code",
   "execution_count": 2,
   "metadata": {},
   "outputs": [],
   "source": [
    "import numpy as np\n",
    "import pandas as pd\n",
    "import tensorflow as tf\n",
    "#import keras.backend as K\n",
    "from flowers_utils import *"
   ]
  },
  {
   "cell_type": "code",
   "execution_count": 3,
   "metadata": {},
   "outputs": [],
   "source": [
    "from keras.layers import Add, Input, Dense, ZeroPadding2D, Activation, Conv2D, BatchNormalization, MaxPooling2D, Flatten\n",
    "from keras.initializers import glorot_uniform\n",
    "from keras.models import Model\n",
    "from keras.optimizers import Adam"
   ]
  },
  {
   "cell_type": "code",
   "execution_count": 4,
   "metadata": {},
   "outputs": [
    {
     "name": "stdout",
     "output_type": "stream",
     "text": [
      "Found 3670 images belonging to 5 classes.\n"
     ]
    }
   ],
   "source": [
    "train_it= load_images()"
   ]
  },
  {
   "cell_type": "code",
   "execution_count": 5,
   "metadata": {},
   "outputs": [
    {
     "data": {
      "text/plain": [
       "(64, 64, 3)"
      ]
     },
     "execution_count": 5,
     "metadata": {},
     "output_type": "execute_result"
    }
   ],
   "source": [
    "train_it.next()[0][0].shape"
   ]
  },
  {
   "cell_type": "code",
   "execution_count": 6,
   "metadata": {},
   "outputs": [
    {
     "data": {
      "text/plain": [
       "5"
      ]
     },
     "execution_count": 6,
     "metadata": {},
     "output_type": "execute_result"
    }
   ],
   "source": [
    "train_it.next()[1].shape[1]  ### classes size"
   ]
  },
  {
   "cell_type": "code",
   "execution_count": null,
   "metadata": {},
   "outputs": [],
   "source": []
  },
  {
   "cell_type": "code",
   "execution_count": 7,
   "metadata": {},
   "outputs": [],
   "source": [
    "def identity_block(a_prev, filters, stride, kernel_size):\n",
    "    \n",
    "    F1, F2 =filters              ###  F2 must be equal to c    if a_prev has shape(n,n,c)\n",
    "    \n",
    "    s=stride\n",
    "    \n",
    "    k= kernel_size\n",
    "    \n",
    "    a_input=a_prev\n",
    "    \n",
    "    X=Conv2D(filters=F1, kernel_size=(1,1), strides=(1,1), padding='valid', kernel_initializer=glorot_uniform(seed=0))(a_prev)\n",
    "    \n",
    "    X=BatchNormalization(axis=3)(X)   ### batchnormalization through channels.....................\n",
    "    \n",
    "    X=Activation('relu')(X)\n",
    "    \n",
    "    X=Conv2D(filters=F2, kernel_size=(k,k), strides=(1,1), padding='same', kernel_initializer=glorot_uniform(seed=0))(X)\n",
    "    \n",
    "    X=BatchNormalization(axis=3)(X)\n",
    "    \n",
    "    X=Add()([a_input, X])\n",
    "    \n",
    "    X=Activation('relu')(X)\n",
    "    \n",
    "    return X\n",
    "    "
   ]
  },
  {
   "cell_type": "code",
   "execution_count": null,
   "metadata": {},
   "outputs": [],
   "source": []
  },
  {
   "cell_type": "code",
   "execution_count": 8,
   "metadata": {},
   "outputs": [],
   "source": [
    "def convolutional_block(a_prev, stride, filters, kernel_size):\n",
    "    \n",
    "    \n",
    "    F1, F2 =filters\n",
    "    \n",
    "    k=kernel_size\n",
    "    s=stride\n",
    "    \n",
    "    a_input=a_prev\n",
    "    \n",
    "   \n",
    "    X=Conv2D(filters=F1, kernel_size=(1,1), strides=(s,s), padding='valid', kernel_initializer=glorot_uniform(seed=0))(a_prev)\n",
    "    X=BatchNormalization(axis=3)(X)\n",
    "    X=Activation('relu')(X)\n",
    "    \n",
    "    X=Conv2D(filters=F2, kernel_size=(k,k), strides=(1,1), padding='same', kernel_initializer=glorot_uniform(seed=0))(X)\n",
    "    X=BatchNormalization(axis=3)(X)\n",
    "    \n",
    "    \n",
    "    a_input= Conv2D(filters=F2, kernel_size=(1,1), strides=(s,s), padding='valid', kernel_initializer=glorot_uniform(seed=0))(a_input)\n",
    "    a_input=BatchNormalization(axis=3)(a_input)\n",
    "    \n",
    "    X=Add()([a_input, X])\n",
    "    X=Activation('relu')(X)\n",
    "    \n",
    "    return X\n",
    "    "
   ]
  },
  {
   "cell_type": "code",
   "execution_count": null,
   "metadata": {},
   "outputs": [],
   "source": []
  },
  {
   "cell_type": "code",
   "execution_count": 9,
   "metadata": {},
   "outputs": [],
   "source": [
    "def model(input_shape, filters, stride, kernel_size, classes_size):\n",
    "    \n",
    "    \n",
    "    X_input=Input(shape=input_shape)\n",
    "    \n",
    "    X=ZeroPadding2D(padding=(3,3))(X_input)\n",
    "    \n",
    "    X=Conv2D(filters=64 , kernel_size=(5,5), padding='valid', strides=(2,2), kernel_initializer= glorot_uniform (seed=0))(X)\n",
    "    X=BatchNormalization(axis=3)(X)\n",
    "    X=Activation('relu')(X)\n",
    "    \n",
    "    X=MaxPooling2D(pool_size=(3,3), strides=(2,2))(X)\n",
    "    \n",
    "    X= convolutional_block(X, stride, filters, kernel_size)\n",
    "    X= identity_block(X, filters, stride, kernel_size)\n",
    "    X= identity_block(X, filters, stride, kernel_size)\n",
    "    \n",
    "    X= convolutional_block(X, stride, filters, kernel_size)\n",
    "    X= identity_block(X, filters, stride, kernel_size)\n",
    "    X= identity_block(X, filters, stride, kernel_size)\n",
    "    X= identity_block(X, filters, stride, kernel_size)\n",
    "    \n",
    "    \n",
    "    X=Flatten()(X)\n",
    "    \n",
    "    #X=Dense(units=128, activation='relu')(X)\n",
    "    \n",
    "    X=Dense(units=classes_size, activation='softmax')(X)\n",
    "    \n",
    "    model=Model(inputs=X_input, outputs=X)\n",
    "    \n",
    "    return model\n",
    "    "
   ]
  },
  {
   "cell_type": "code",
   "execution_count": 10,
   "metadata": {},
   "outputs": [],
   "source": [
    "model=model(input_shape=(64,64,3), filters=[3,5], stride=2, kernel_size=3, classes_size=5)"
   ]
  },
  {
   "cell_type": "code",
   "execution_count": null,
   "metadata": {},
   "outputs": [],
   "source": []
  },
  {
   "cell_type": "code",
   "execution_count": 11,
   "metadata": {},
   "outputs": [],
   "source": [
    "opt=Adam(lr=0.01, beta_1=0.9, beta_2=0.999, decay=0.01)\n",
    "model.compile(optimizer=opt, loss='categorical_crossentropy', metrics=['accuracy'])"
   ]
  },
  {
   "cell_type": "code",
   "execution_count": 12,
   "metadata": {},
   "outputs": [
    {
     "name": "stdout",
     "output_type": "stream",
     "text": [
      "Epoch 1/15\n",
      "32/32 [==============================] - 13s - loss: 2.1433 - acc: 0.2588    \n",
      "Epoch 2/15\n",
      "32/32 [==============================] - 13s - loss: 1.6003 - acc: 0.2988    \n",
      "Epoch 3/15\n",
      "32/32 [==============================] - 13s - loss: 1.5022 - acc: 0.3496    \n",
      "Epoch 4/15\n",
      "32/32 [==============================] - 14s - loss: 1.4647 - acc: 0.3475    \n",
      "Epoch 5/15\n",
      "32/32 [==============================] - 15s - loss: 1.3621 - acc: 0.4160    \n",
      "Epoch 6/15\n",
      "32/32 [==============================] - 16s - loss: 1.3162 - acc: 0.4473    \n",
      "Epoch 7/15\n",
      "32/32 [==============================] - 14s - loss: 1.3460 - acc: 0.4248    \n",
      "Epoch 8/15\n",
      "32/32 [==============================] - 13s - loss: 1.2207 - acc: 0.4580    \n",
      "Epoch 9/15\n",
      "32/32 [==============================] - 13s - loss: 1.1977 - acc: 0.4775    \n",
      "Epoch 10/15\n",
      "32/32 [==============================] - 13s - loss: 1.1810 - acc: 0.4971    \n",
      "Epoch 11/15\n",
      "32/32 [==============================] - 13s - loss: 1.1441 - acc: 0.5067    \n",
      "Epoch 12/15\n",
      "32/32 [==============================] - 14s - loss: 1.1432 - acc: 0.5088    \n",
      "Epoch 13/15\n",
      "32/32 [==============================] - 14s - loss: 1.1423 - acc: 0.5156    \n",
      "Epoch 14/15\n",
      "32/32 [==============================] - 13s - loss: 1.0610 - acc: 0.5615    \n",
      "Epoch 15/15\n",
      "32/32 [==============================] - 13s - loss: 1.0917 - acc: 0.5420    \n"
     ]
    },
    {
     "data": {
      "text/plain": [
       "<keras.callbacks.History at 0x341e266198>"
      ]
     },
     "execution_count": 12,
     "metadata": {},
     "output_type": "execute_result"
    }
   ],
   "source": [
    "model.fit_generator(train_it, steps_per_epoch=32, epochs=15)"
   ]
  },
  {
   "cell_type": "code",
   "execution_count": null,
   "metadata": {},
   "outputs": [],
   "source": []
  }
 ],
 "metadata": {
  "kernelspec": {
   "display_name": "Python 3",
   "language": "python",
   "name": "python3"
  },
  "language_info": {
   "codemirror_mode": {
    "name": "ipython",
    "version": 3
   },
   "file_extension": ".py",
   "mimetype": "text/x-python",
   "name": "python",
   "nbconvert_exporter": "python",
   "pygments_lexer": "ipython3",
   "version": "3.6.5"
  }
 },
 "nbformat": 4,
 "nbformat_minor": 2
}
