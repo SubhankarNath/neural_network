{
 "cells": [
  {
   "cell_type": "code",
   "execution_count": 2,
   "metadata": {},
   "outputs": [],
   "source": [
    "import numpy as np\n",
    "import tensorflow as tf\n",
    "from digits_utils import *"
   ]
  },
  {
   "cell_type": "code",
   "execution_count": 3,
   "metadata": {},
   "outputs": [],
   "source": [
    "from keras.layers import Input, Add, Dense, Conv2D, Activation, BatchNormalization, ZeroPadding2D, MaxPooling2D, Flatten\n",
    "from keras.optimizers import Adam\n",
    "from keras.initializers import glorot_uniform\n",
    "from keras.models import Model"
   ]
  },
  {
   "cell_type": "code",
   "execution_count": 4,
   "metadata": {},
   "outputs": [
    {
     "name": "stdout",
     "output_type": "stream",
     "text": [
      "Found 7557 images belonging to 16 classes.\n"
     ]
    }
   ],
   "source": [
    "train_it=load_images()"
   ]
  },
  {
   "cell_type": "code",
   "execution_count": 5,
   "metadata": {},
   "outputs": [
    {
     "data": {
      "text/plain": [
       "(64, 64, 3)"
      ]
     },
     "execution_count": 5,
     "metadata": {},
     "output_type": "execute_result"
    }
   ],
   "source": [
    "train_it.next()[0][0].shape"
   ]
  },
  {
   "cell_type": "code",
   "execution_count": 6,
   "metadata": {},
   "outputs": [
    {
     "data": {
      "text/plain": [
       "(32, 16)"
      ]
     },
     "execution_count": 6,
     "metadata": {},
     "output_type": "execute_result"
    }
   ],
   "source": [
    "train_it.next()[1].shape"
   ]
  },
  {
   "cell_type": "code",
   "execution_count": 7,
   "metadata": {},
   "outputs": [],
   "source": [
    "### classes_size=16"
   ]
  },
  {
   "cell_type": "code",
   "execution_count": 8,
   "metadata": {},
   "outputs": [],
   "source": [
    "def identity_block(a_prev, filters, stride, kernel_size):\n",
    "    \n",
    "    F1, F2 =filters              ###  F2 must be equal to c    if a_prev has shape(n,n,c)\n",
    "    \n",
    "    s=stride\n",
    "    \n",
    "    k= kernel_size\n",
    "    \n",
    "    a_input=a_prev\n",
    "    \n",
    "    X=Conv2D(filters=F1, kernel_size=(1,1), strides=(1,1), padding='valid', kernel_initializer=glorot_uniform(seed=0))(a_prev)\n",
    "    \n",
    "    X=BatchNormalization(axis=3)(X)   ### batchnormalization through channels.....................\n",
    "    \n",
    "    X=Activation('relu')(X)\n",
    "    \n",
    "    X=Conv2D(filters=F2, kernel_size=(k,k), strides=(1,1), padding='same', kernel_initializer=glorot_uniform(seed=0))(X)\n",
    "    \n",
    "    X=BatchNormalization(axis=3)(X)\n",
    "    \n",
    "    X=Add()([a_input, X])\n",
    "    \n",
    "    X=Activation('relu')(X)\n",
    "    \n",
    "    return X\n",
    "    "
   ]
  },
  {
   "cell_type": "code",
   "execution_count": 9,
   "metadata": {},
   "outputs": [],
   "source": [
    "def convolutional_block(a_prev, stride, filters, kernel_size):\n",
    "    \n",
    "    \n",
    "    F1, F2 =filters\n",
    "    \n",
    "    k=kernel_size\n",
    "    s=stride\n",
    "    \n",
    "    a_input=a_prev\n",
    "    \n",
    "   \n",
    "    X=Conv2D(filters=F1, kernel_size=(1,1), strides=(s,s), padding='valid', kernel_initializer=glorot_uniform(seed=0))(a_prev)\n",
    "    X=BatchNormalization(axis=3)(X)\n",
    "    X=Activation('relu')(X)\n",
    "    \n",
    "    X=Conv2D(filters=F2, kernel_size=(k,k), strides=(1,1), padding='same', kernel_initializer=glorot_uniform(seed=0))(X)\n",
    "    X=BatchNormalization(axis=3)(X)\n",
    "    \n",
    "    \n",
    "    a_input= Conv2D(filters=F2, kernel_size=(1,1), strides=(s,s), padding='valid', kernel_initializer=glorot_uniform(seed=0))(a_input)\n",
    "    a_input=BatchNormalization(axis=3)(a_input)\n",
    "    \n",
    "    X=Add()([a_input, X])\n",
    "    X=Activation('relu')(X)\n",
    "    \n",
    "    return X\n",
    "    "
   ]
  },
  {
   "cell_type": "code",
   "execution_count": 10,
   "metadata": {},
   "outputs": [],
   "source": [
    "def model(input_shape, filters, stride, kernel_size, classes_size):\n",
    "    \n",
    "    \n",
    "    X_input=Input(shape=input_shape)\n",
    "    \n",
    "    X=ZeroPadding2D(padding=(3,3))(X_input)\n",
    "    \n",
    "    X=Conv2D(filters=64 , kernel_size=(5,5), padding='valid', strides=(2,2), kernel_initializer= glorot_uniform (seed=0))(X)\n",
    "    X=BatchNormalization(axis=3)(X)\n",
    "    X=Activation('relu')(X)\n",
    "    \n",
    "    X=MaxPooling2D(pool_size=(3,3), strides=(2,2))(X)\n",
    "    \n",
    "    X= convolutional_block(X, stride, filters, kernel_size)\n",
    "    X= identity_block(X, filters, stride, kernel_size)\n",
    "    X= identity_block(X, filters, stride, kernel_size)\n",
    "    \n",
    "    X= convolutional_block(X, stride, filters, kernel_size)\n",
    "    X= identity_block(X, filters, stride, kernel_size)\n",
    "    X= identity_block(X, filters, stride, kernel_size)\n",
    "    X= identity_block(X, filters, stride, kernel_size)\n",
    "    \n",
    "    \n",
    "    X=Flatten()(X)\n",
    "    \n",
    "    #X=Dense(units=128, activation='relu')(X)\n",
    "    \n",
    "    X=Dense(units=classes_size, activation='softmax')(X)\n",
    "    \n",
    "    model=Model(inputs=X_input, outputs=X)\n",
    "    \n",
    "    return model\n",
    "    "
   ]
  },
  {
   "cell_type": "code",
   "execution_count": 11,
   "metadata": {},
   "outputs": [],
   "source": [
    "model=model(input_shape=(64,64,3), filters=[3,5], stride=2, kernel_size=3, classes_size=16)"
   ]
  },
  {
   "cell_type": "code",
   "execution_count": 12,
   "metadata": {},
   "outputs": [],
   "source": [
    "opt=Adam(lr=0.01, beta_1=0.9, beta_2=0.999, decay=0.01)\n",
    "model.compile(optimizer=opt, loss='categorical_crossentropy', metrics=['accuracy'])"
   ]
  },
  {
   "cell_type": "code",
   "execution_count": 13,
   "metadata": {},
   "outputs": [
    {
     "name": "stdout",
     "output_type": "stream",
     "text": [
      "Epoch 1/20\n",
      "32/32 [==============================] - 33s - loss: 3.2041 - acc: 0.1660    \n",
      "Epoch 2/20\n",
      "32/32 [==============================] - 29s - loss: 2.3326 - acc: 0.2422    \n",
      "Epoch 3/20\n",
      "32/32 [==============================] - 26s - loss: 2.1790 - acc: 0.3018    \n",
      "Epoch 4/20\n",
      "32/32 [==============================] - 25s - loss: 1.9294 - acc: 0.3916    \n",
      "Epoch 5/20\n",
      "32/32 [==============================] - 23s - loss: 1.7994 - acc: 0.4326    \n",
      "Epoch 6/20\n",
      "32/32 [==============================] - 44s - loss: 1.6992 - acc: 0.4512    \n",
      "Epoch 7/20\n",
      "32/32 [==============================] - 22s - loss: 1.5408 - acc: 0.5127    \n",
      "Epoch 8/20\n",
      "32/32 [==============================] - 15s - loss: 1.4153 - acc: 0.5351    \n",
      "Epoch 9/20\n",
      "32/32 [==============================] - 13s - loss: 1.2985 - acc: 0.5732    \n",
      "Epoch 10/20\n",
      "32/32 [==============================] - 12s - loss: 1.3712 - acc: 0.5566    \n",
      "Epoch 11/20\n",
      "32/32 [==============================] - 11s - loss: 1.2494 - acc: 0.5908    \n",
      "Epoch 12/20\n",
      "32/32 [==============================] - 11s - loss: 1.1854 - acc: 0.6016    \n",
      "Epoch 13/20\n",
      "32/32 [==============================] - 11s - loss: 1.1212 - acc: 0.6377    \n",
      "Epoch 14/20\n",
      "32/32 [==============================] - 11s - loss: 1.1028 - acc: 0.6406    \n",
      "Epoch 15/20\n",
      "32/32 [==============================] - 11s - loss: 1.0908 - acc: 0.6418    \n",
      "Epoch 16/20\n",
      "32/32 [==============================] - 11s - loss: 1.0885 - acc: 0.6367    \n",
      "Epoch 17/20\n",
      "32/32 [==============================] - 13s - loss: 0.9800 - acc: 0.6777    \n",
      "Epoch 18/20\n",
      "32/32 [==============================] - 12s - loss: 0.9923 - acc: 0.6836    \n",
      "Epoch 19/20\n",
      "32/32 [==============================] - 12s - loss: 0.9093 - acc: 0.7090    \n",
      "Epoch 20/20\n",
      "32/32 [==============================] - 11s - loss: 0.9378 - acc: 0.6982    \n"
     ]
    },
    {
     "data": {
      "text/plain": [
       "<keras.callbacks.History at 0xe5cef66dd8>"
      ]
     },
     "execution_count": 13,
     "metadata": {},
     "output_type": "execute_result"
    }
   ],
   "source": [
    "model.fit_generator(train_it, steps_per_epoch=32, epochs=20)"
   ]
  },
  {
   "cell_type": "code",
   "execution_count": 14,
   "metadata": {},
   "outputs": [
    {
     "name": "stdout",
     "output_type": "stream",
     "text": [
      "Found 1010 images belonging to 16 classes.\n"
     ]
    }
   ],
   "source": [
    "eval_it=load_eval_data()"
   ]
  },
  {
   "cell_type": "code",
   "execution_count": 25,
   "metadata": {},
   "outputs": [],
   "source": [
    "loss, accuracy= model.evaluate_generator(eval_it, steps=32)"
   ]
  },
  {
   "cell_type": "code",
   "execution_count": 26,
   "metadata": {},
   "outputs": [
    {
     "name": "stdout",
     "output_type": "stream",
     "text": [
      "loss :1.007124\n",
      "accuracy :0.653465\n"
     ]
    }
   ],
   "source": [
    "print(\"loss :%f\"% loss)\n",
    "print(\"accuracy :%f\"% accuracy)"
   ]
  },
  {
   "cell_type": "code",
   "execution_count": null,
   "metadata": {},
   "outputs": [],
   "source": []
  }
 ],
 "metadata": {
  "kernelspec": {
   "display_name": "Python 3",
   "language": "python",
   "name": "python3"
  },
  "language_info": {
   "codemirror_mode": {
    "name": "ipython",
    "version": 3
   },
   "file_extension": ".py",
   "mimetype": "text/x-python",
   "name": "python",
   "nbconvert_exporter": "python",
   "pygments_lexer": "ipython3",
   "version": "3.6.5"
  }
 },
 "nbformat": 4,
 "nbformat_minor": 2
}
